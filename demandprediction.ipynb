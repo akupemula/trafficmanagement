{
 "cells": [
  {
   "cell_type": "markdown",
   "metadata": {},
   "source": [
    "# Introduction\n",
    "Hi, my name is Andy and I'm submitting for the traffic management challenge. I am a machine learning enthusiast with special interest on AI applications for financial time series data. I am hoping to apply ML techniques I've learned in finance domain to the traffic management challenge.\n",
    "\n",
    "Let's start by importing the required modules and writing down the supporting functions (such as the geohash functions)."
   ]
  },
  {
   "cell_type": "code",
   "execution_count": 1,
   "metadata": {},
   "outputs": [
    {
     "name": "stderr",
     "output_type": "stream",
     "text": [
      "Using TensorFlow backend.\n"
     ]
    }
   ],
   "source": [
    "import pandas as pd\n",
    "import numpy as np\n",
    "import matplotlib.pyplot as plt\n",
    "import keras\n",
    "import tensorflow as tf\n",
    "\n",
    "import math\n",
    "from math import log10\n",
    "from itertools import product\n",
    "\n",
    "from sklearn.model_selection import train_test_split\n",
    "from sklearn.preprocessing import MinMaxScaler\n",
    "\n",
    "__base32 = '0123456789bcdefghjkmnpqrstuvwxyz'\n",
    "__decodemap = { }\n",
    "for i in range(len(__base32)):\n",
    "    __decodemap[__base32[i]] = i\n",
    "del i\n",
    "\n",
    "def decode_exactly(geohash):\n",
    "    \"\"\"\n",
    "    Decode the geohash to its exact values, including the error\n",
    "    margins of the result.  Returns four float values: latitude,\n",
    "    longitude, the plus/minus error for latitude (as a positive\n",
    "    number) and the plus/minus error for longitude (as a positive\n",
    "    number).\n",
    "    \"\"\"\n",
    "    lat_interval, lon_interval = (-90.0, 90.0), (-180.0, 180.0)\n",
    "    lat_err, lon_err = 90.0, 180.0\n",
    "    is_even = True\n",
    "    for c in geohash:\n",
    "        cd = __decodemap[c]\n",
    "        for mask in [16, 8, 4, 2, 1]:\n",
    "            if is_even: # adds longitude info\n",
    "                lon_err /= 2\n",
    "                if cd & mask:\n",
    "                    lon_interval = ((lon_interval[0]+lon_interval[1])/2, lon_interval[1])\n",
    "                else:\n",
    "                    lon_interval = (lon_interval[0], (lon_interval[0]+lon_interval[1])/2)\n",
    "            else:      # adds latitude info\n",
    "                lat_err /= 2\n",
    "                if cd & mask:\n",
    "                    lat_interval = ((lat_interval[0]+lat_interval[1])/2, lat_interval[1])\n",
    "                else:\n",
    "                    lat_interval = (lat_interval[0], (lat_interval[0]+lat_interval[1])/2)\n",
    "            is_even = not is_even\n",
    "    lat = (lat_interval[0] + lat_interval[1]) / 2\n",
    "    lon = (lon_interval[0] + lon_interval[1]) / 2\n",
    "    return lat, lon, lat_err, lon_err\n",
    "\n",
    "def decode(geohash):\n",
    "    \"\"\"\n",
    "    Decode geohash, returning two strings with latitude and longitude\n",
    "    containing only relevant digits and with trailing zeroes removed.\n",
    "    \"\"\"\n",
    "    lat, lon, lat_err, lon_err = decode_exactly(geohash)\n",
    "    # Format to the number of decimals that are known\n",
    "    lats = \"%.*f\" % (max(1, int(round(-log10(lat_err)))) - 1, lat)\n",
    "    lons = \"%.*f\" % (max(1, int(round(-log10(lon_err)))) - 1, lon)\n",
    "    if '.' in lats: lats = lats.rstrip('0')\n",
    "    if '.' in lons: lons = lons.rstrip('0')\n",
    "    return lats, lons"
   ]
  },
  {
   "cell_type": "markdown",
   "metadata": {},
   "source": [
    "# Exploratory data\n",
    "\n",
    "Now let's donwload the data and do some pre-processing before proceeding with exploratory analysis on the data"
   ]
  },
  {
   "cell_type": "code",
   "execution_count": 2,
   "metadata": {},
   "outputs": [],
   "source": [
    "raw = pd.read_csv('demand.csv')"
   ]
  },
  {
   "cell_type": "code",
   "execution_count": 3,
   "metadata": {},
   "outputs": [
    {
     "data": {
      "text/html": [
       "<div>\n",
       "<style scoped>\n",
       "    .dataframe tbody tr th:only-of-type {\n",
       "        vertical-align: middle;\n",
       "    }\n",
       "\n",
       "    .dataframe tbody tr th {\n",
       "        vertical-align: top;\n",
       "    }\n",
       "\n",
       "    .dataframe thead th {\n",
       "        text-align: right;\n",
       "    }\n",
       "</style>\n",
       "<table border=\"1\" class=\"dataframe\">\n",
       "  <thead>\n",
       "    <tr style=\"text-align: right;\">\n",
       "      <th></th>\n",
       "      <th>geohash6</th>\n",
       "      <th>day</th>\n",
       "      <th>timestamp</th>\n",
       "      <th>demand</th>\n",
       "    </tr>\n",
       "  </thead>\n",
       "  <tbody>\n",
       "    <tr>\n",
       "      <th>0</th>\n",
       "      <td>qp03wc</td>\n",
       "      <td>18</td>\n",
       "      <td>20:0</td>\n",
       "      <td>0.020072</td>\n",
       "    </tr>\n",
       "    <tr>\n",
       "      <th>1</th>\n",
       "      <td>qp03pn</td>\n",
       "      <td>10</td>\n",
       "      <td>14:30</td>\n",
       "      <td>0.024721</td>\n",
       "    </tr>\n",
       "    <tr>\n",
       "      <th>2</th>\n",
       "      <td>qp09sw</td>\n",
       "      <td>9</td>\n",
       "      <td>6:15</td>\n",
       "      <td>0.102821</td>\n",
       "    </tr>\n",
       "    <tr>\n",
       "      <th>3</th>\n",
       "      <td>qp0991</td>\n",
       "      <td>32</td>\n",
       "      <td>5:0</td>\n",
       "      <td>0.088755</td>\n",
       "    </tr>\n",
       "    <tr>\n",
       "      <th>4</th>\n",
       "      <td>qp090q</td>\n",
       "      <td>15</td>\n",
       "      <td>4:0</td>\n",
       "      <td>0.074468</td>\n",
       "    </tr>\n",
       "  </tbody>\n",
       "</table>\n",
       "</div>"
      ],
      "text/plain": [
       "  geohash6  day timestamp    demand\n",
       "0   qp03wc   18      20:0  0.020072\n",
       "1   qp03pn   10     14:30  0.024721\n",
       "2   qp09sw    9      6:15  0.102821\n",
       "3   qp0991   32       5:0  0.088755\n",
       "4   qp090q   15       4:0  0.074468"
      ]
     },
     "execution_count": 3,
     "metadata": {},
     "output_type": "execute_result"
    }
   ],
   "source": [
    "raw.head()"
   ]
  },
  {
   "cell_type": "markdown",
   "metadata": {},
   "source": [
    "Let's first convert the timestamp to something that is more Python readable"
   ]
  },
  {
   "cell_type": "code",
   "execution_count": 4,
   "metadata": {},
   "outputs": [
    {
     "data": {
      "text/html": [
       "<div>\n",
       "<style scoped>\n",
       "    .dataframe tbody tr th:only-of-type {\n",
       "        vertical-align: middle;\n",
       "    }\n",
       "\n",
       "    .dataframe tbody tr th {\n",
       "        vertical-align: top;\n",
       "    }\n",
       "\n",
       "    .dataframe thead th {\n",
       "        text-align: right;\n",
       "    }\n",
       "</style>\n",
       "<table border=\"1\" class=\"dataframe\">\n",
       "  <thead>\n",
       "    <tr style=\"text-align: right;\">\n",
       "      <th></th>\n",
       "      <th>geohash6</th>\n",
       "      <th>day</th>\n",
       "      <th>timestamp</th>\n",
       "      <th>demand</th>\n",
       "    </tr>\n",
       "  </thead>\n",
       "  <tbody>\n",
       "    <tr>\n",
       "      <th>0</th>\n",
       "      <td>qp03wc</td>\n",
       "      <td>18</td>\n",
       "      <td>20:00:00</td>\n",
       "      <td>0.020072</td>\n",
       "    </tr>\n",
       "    <tr>\n",
       "      <th>1</th>\n",
       "      <td>qp03pn</td>\n",
       "      <td>10</td>\n",
       "      <td>14:30:00</td>\n",
       "      <td>0.024721</td>\n",
       "    </tr>\n",
       "    <tr>\n",
       "      <th>2</th>\n",
       "      <td>qp09sw</td>\n",
       "      <td>9</td>\n",
       "      <td>06:15:00</td>\n",
       "      <td>0.102821</td>\n",
       "    </tr>\n",
       "    <tr>\n",
       "      <th>3</th>\n",
       "      <td>qp0991</td>\n",
       "      <td>32</td>\n",
       "      <td>05:00:00</td>\n",
       "      <td>0.088755</td>\n",
       "    </tr>\n",
       "    <tr>\n",
       "      <th>4</th>\n",
       "      <td>qp090q</td>\n",
       "      <td>15</td>\n",
       "      <td>04:00:00</td>\n",
       "      <td>0.074468</td>\n",
       "    </tr>\n",
       "  </tbody>\n",
       "</table>\n",
       "</div>"
      ],
      "text/plain": [
       "  geohash6  day timestamp    demand\n",
       "0   qp03wc   18  20:00:00  0.020072\n",
       "1   qp03pn   10  14:30:00  0.024721\n",
       "2   qp09sw    9  06:15:00  0.102821\n",
       "3   qp0991   32  05:00:00  0.088755\n",
       "4   qp090q   15  04:00:00  0.074468"
      ]
     },
     "execution_count": 4,
     "metadata": {},
     "output_type": "execute_result"
    }
   ],
   "source": [
    "# converting the timestamp\n",
    "timekeys = pd.Series(raw.timestamp.unique())\n",
    "timevalues = pd.to_datetime(timekeys, format=\"%H:%M\").dt.time\n",
    "timedict = dict(zip(timekeys, timevalues))\n",
    "raw['timestamp'] = raw['timestamp'].map(timedict)\n",
    "\n",
    "raw.head()"
   ]
  },
  {
   "cell_type": "code",
   "execution_count": 5,
   "metadata": {},
   "outputs": [
    {
     "data": {
      "text/plain": [
       "day  timestamp\n",
       "1    00:00:00     599\n",
       "     00:15:00     646\n",
       "     00:30:00     670\n",
       "     00:45:00     682\n",
       "     01:00:00     723\n",
       "Name: geohash6, dtype: int64"
      ]
     },
     "execution_count": 5,
     "metadata": {},
     "output_type": "execute_result"
    }
   ],
   "source": [
    "raw.groupby(['day','timestamp'])['geohash6'].count().head()"
   ]
  },
  {
   "cell_type": "markdown",
   "metadata": {},
   "source": [
    "First thing first, the number of geohash6 per point of time varies (see above) as those that don't have demand are not reported. So we need to assign 0 to those unreported geohash6. Let's do that first."
   ]
  },
  {
   "cell_type": "code",
   "execution_count": 6,
   "metadata": {},
   "outputs": [],
   "source": [
    "allindex =  product(np.sort(raw.geohash6.unique()),np.sort(raw.day.unique()),np.sort(raw.timestamp.unique()))\n",
    "raw.index = list(zip(raw.geohash6,raw.day,raw.timestamp))\n",
    "df = pd.DataFrame(index=allindex).sort_index()\n",
    "df['geohash6'],df['day'],df['timestamp'] = zip(*df.index)\n",
    "df['day'] = df['day'].astype(np.int8)\n",
    "df['demand'] = raw['demand'].astype(np.float32)\n",
    "df['demand'].fillna(0,inplace=True)\n",
    "del raw"
   ]
  },
  {
   "cell_type": "code",
   "execution_count": 7,
   "metadata": {},
   "outputs": [
    {
     "data": {
      "text/plain": [
       "day  timestamp\n",
       "1    00:00:00     1329\n",
       "     00:15:00     1329\n",
       "     00:30:00     1329\n",
       "     00:45:00     1329\n",
       "     01:00:00     1329\n",
       "Name: geohash6, dtype: int64"
      ]
     },
     "execution_count": 7,
     "metadata": {},
     "output_type": "execute_result"
    }
   ],
   "source": [
    "df.groupby(['day','timestamp'])['geohash6'].count().head()"
   ]
  },
  {
   "cell_type": "markdown",
   "metadata": {},
   "source": [
    "Now that we have filled the missing geohash6 with 0, let's try to see any preliminary patterns from the data"
   ]
  },
  {
   "cell_type": "code",
   "execution_count": 8,
   "metadata": {},
   "outputs": [
    {
     "data": {
      "text/plain": [
       "[<matplotlib.lines.Line2D at 0x1e15a83cc88>]"
      ]
     },
     "execution_count": 8,
     "metadata": {},
     "output_type": "execute_result"
    },
    {
     "data": {
      "image/png": "[encoded data removed]",
      "text/plain": [
       "<Figure size 432x288 with 1 Axes>"
      ]
     },
     "metadata": {
      "needs_background": "light"
     },
     "output_type": "display_data"
    }
   ],
   "source": [
    "# trying to see pattern within 60 days\n",
    "plt.plot(df.groupby(['day'])['demand'].mean())"
   ]
  },
  {
   "cell_type": "code",
   "execution_count": 9,
   "metadata": {
    "scrolled": true
   },
   "outputs": [
    {
     "data": {
      "text/plain": [
       "[<matplotlib.lines.Line2D at 0x1e1541810b8>]"
      ]
     },
     "execution_count": 9,
     "metadata": {},
     "output_type": "execute_result"
    },
    {
     "data": {
      "image/png": "[encoded data removed]",
      "text/plain": [
       "<Figure size 432x288 with 1 Axes>"
      ]
     },
     "metadata": {
      "needs_background": "light"
     },
     "output_type": "display_data"
    }
   ],
   "source": [
    "# trying to see pattern within a day\n",
    "plt.plot(df.groupby(['timestamp'])['demand'].mean())"
   ]
  },
  {
   "cell_type": "markdown",
   "metadata": {},
   "source": [
    "Two observations here:\n",
    "1. There is a pattern between weekdays and weekends, so let's use the modulus 7 to identify which day it is in a week as one of the features although such information is not given in the original database.\n",
    "2. Another pattern within a day with peak around 10am (morning rush hour) and low point around 8pm (during dinnertime - not sure why?)"
   ]
  },
  {
   "cell_type": "code",
   "execution_count": 10,
   "metadata": {},
   "outputs": [
    {
     "data": {
      "text/html": [
       "<div>\n",
       "<style scoped>\n",
       "    .dataframe tbody tr th:only-of-type {\n",
       "        vertical-align: middle;\n",
       "    }\n",
       "\n",
       "    .dataframe tbody tr th {\n",
       "        vertical-align: top;\n",
       "    }\n",
       "\n",
       "    .dataframe thead th {\n",
       "        text-align: right;\n",
       "    }\n",
       "</style>\n",
       "<table border=\"1\" class=\"dataframe\">\n",
       "  <thead>\n",
       "    <tr style=\"text-align: right;\">\n",
       "      <th></th>\n",
       "      <th>geohash6</th>\n",
       "      <th>day</th>\n",
       "      <th>timestamp</th>\n",
       "      <th>demand</th>\n",
       "      <th>day_</th>\n",
       "    </tr>\n",
       "  </thead>\n",
       "  <tbody>\n",
       "    <tr>\n",
       "      <th>(qp02yc, 1, 00:00:00)</th>\n",
       "      <td>qp02yc</td>\n",
       "      <td>1</td>\n",
       "      <td>00:00:00</td>\n",
       "      <td>0.0</td>\n",
       "      <td>1</td>\n",
       "    </tr>\n",
       "    <tr>\n",
       "      <th>(qp02yc, 1, 00:15:00)</th>\n",
       "      <td>qp02yc</td>\n",
       "      <td>1</td>\n",
       "      <td>00:15:00</td>\n",
       "      <td>0.0</td>\n",
       "      <td>1</td>\n",
       "    </tr>\n",
       "    <tr>\n",
       "      <th>(qp02yc, 1, 00:30:00)</th>\n",
       "      <td>qp02yc</td>\n",
       "      <td>1</td>\n",
       "      <td>00:30:00</td>\n",
       "      <td>0.0</td>\n",
       "      <td>1</td>\n",
       "    </tr>\n",
       "    <tr>\n",
       "      <th>(qp02yc, 1, 00:45:00)</th>\n",
       "      <td>qp02yc</td>\n",
       "      <td>1</td>\n",
       "      <td>00:45:00</td>\n",
       "      <td>0.0</td>\n",
       "      <td>1</td>\n",
       "    </tr>\n",
       "    <tr>\n",
       "      <th>(qp02yc, 1, 01:00:00)</th>\n",
       "      <td>qp02yc</td>\n",
       "      <td>1</td>\n",
       "      <td>01:00:00</td>\n",
       "      <td>0.0</td>\n",
       "      <td>1</td>\n",
       "    </tr>\n",
       "  </tbody>\n",
       "</table>\n",
       "</div>"
      ],
      "text/plain": [
       "                      geohash6  day timestamp  demand  day_\n",
       "(qp02yc, 1, 00:00:00)   qp02yc    1  00:00:00     0.0     1\n",
       "(qp02yc, 1, 00:15:00)   qp02yc    1  00:15:00     0.0     1\n",
       "(qp02yc, 1, 00:30:00)   qp02yc    1  00:30:00     0.0     1\n",
       "(qp02yc, 1, 00:45:00)   qp02yc    1  00:45:00     0.0     1\n",
       "(qp02yc, 1, 01:00:00)   qp02yc    1  01:00:00     0.0     1"
      ]
     },
     "execution_count": 10,
     "metadata": {},
     "output_type": "execute_result"
    }
   ],
   "source": [
    "# applying modulus 7\n",
    "daykeys = df.day.unique()\n",
    "dayvalues = daykeys % 7\n",
    "daydict = dict(zip(daykeys, dayvalues))\n",
    "df['day_'] = df['day'].map(daydict)\n",
    "\n",
    "df.head()"
   ]
  },
  {
   "cell_type": "markdown",
   "metadata": {},
   "source": [
    "# Feature 1: Groupby Means\n",
    "\n",
    "There are 3 groups of categorical variables here: day_, timestamp and geohash6. Instead of using one hot encoding, let's use groupby mean as features instead. The mean will act as an 'anchor' so that prediction values does not deviate too much from historical values."
   ]
  },
  {
   "cell_type": "code",
   "execution_count": 11,
   "metadata": {},
   "outputs": [],
   "source": [
    "meanday = dict(df.groupby('day_')['demand'].mean())\n",
    "meantime = dict(df.groupby('timestamp')['demand'].mean())\n",
    "meangeo = dict(df.groupby('geohash6')['demand'].mean())\n",
    "\n",
    "df['meanday'] = df.day_.map(meanday)\n",
    "df['meantime'] = df.timestamp.map(meantime)\n",
    "df['meangeo'] = df.geohash6.map(meangeo)"
   ]
  },
  {
   "cell_type": "code",
   "execution_count": 12,
   "metadata": {},
   "outputs": [
    {
     "data": {
      "text/html": [
       "<div>\n",
       "<style scoped>\n",
       "    .dataframe tbody tr th:only-of-type {\n",
       "        vertical-align: middle;\n",
       "    }\n",
       "\n",
       "    .dataframe tbody tr th {\n",
       "        vertical-align: top;\n",
       "    }\n",
       "\n",
       "    .dataframe thead th {\n",
       "        text-align: right;\n",
       "    }\n",
       "</style>\n",
       "<table border=\"1\" class=\"dataframe\">\n",
       "  <thead>\n",
       "    <tr style=\"text-align: right;\">\n",
       "      <th></th>\n",
       "      <th>geohash6</th>\n",
       "      <th>day</th>\n",
       "      <th>timestamp</th>\n",
       "      <th>demand</th>\n",
       "      <th>day_</th>\n",
       "      <th>meanday</th>\n",
       "      <th>meantime</th>\n",
       "      <th>meangeo</th>\n",
       "    </tr>\n",
       "  </thead>\n",
       "  <tbody>\n",
       "    <tr>\n",
       "      <th>(qp02yc, 1, 00:00:00)</th>\n",
       "      <td>qp02yc</td>\n",
       "      <td>1</td>\n",
       "      <td>00:00:00</td>\n",
       "      <td>0.0</td>\n",
       "      <td>1</td>\n",
       "      <td>0.056065</td>\n",
       "      <td>0.052137</td>\n",
       "      <td>0.002261</td>\n",
       "    </tr>\n",
       "    <tr>\n",
       "      <th>(qp02yc, 1, 00:15:00)</th>\n",
       "      <td>qp02yc</td>\n",
       "      <td>1</td>\n",
       "      <td>00:15:00</td>\n",
       "      <td>0.0</td>\n",
       "      <td>1</td>\n",
       "      <td>0.056065</td>\n",
       "      <td>0.055022</td>\n",
       "      <td>0.002261</td>\n",
       "    </tr>\n",
       "    <tr>\n",
       "      <th>(qp02yc, 1, 00:30:00)</th>\n",
       "      <td>qp02yc</td>\n",
       "      <td>1</td>\n",
       "      <td>00:30:00</td>\n",
       "      <td>0.0</td>\n",
       "      <td>1</td>\n",
       "      <td>0.056065</td>\n",
       "      <td>0.057736</td>\n",
       "      <td>0.002261</td>\n",
       "    </tr>\n",
       "    <tr>\n",
       "      <th>(qp02yc, 1, 00:45:00)</th>\n",
       "      <td>qp02yc</td>\n",
       "      <td>1</td>\n",
       "      <td>00:45:00</td>\n",
       "      <td>0.0</td>\n",
       "      <td>1</td>\n",
       "      <td>0.056065</td>\n",
       "      <td>0.058483</td>\n",
       "      <td>0.002261</td>\n",
       "    </tr>\n",
       "    <tr>\n",
       "      <th>(qp02yc, 1, 01:00:00)</th>\n",
       "      <td>qp02yc</td>\n",
       "      <td>1</td>\n",
       "      <td>01:00:00</td>\n",
       "      <td>0.0</td>\n",
       "      <td>1</td>\n",
       "      <td>0.056065</td>\n",
       "      <td>0.061226</td>\n",
       "      <td>0.002261</td>\n",
       "    </tr>\n",
       "  </tbody>\n",
       "</table>\n",
       "</div>"
      ],
      "text/plain": [
       "                      geohash6  day timestamp  demand  day_   meanday  \\\n",
       "(qp02yc, 1, 00:00:00)   qp02yc    1  00:00:00     0.0     1  0.056065   \n",
       "(qp02yc, 1, 00:15:00)   qp02yc    1  00:15:00     0.0     1  0.056065   \n",
       "(qp02yc, 1, 00:30:00)   qp02yc    1  00:30:00     0.0     1  0.056065   \n",
       "(qp02yc, 1, 00:45:00)   qp02yc    1  00:45:00     0.0     1  0.056065   \n",
       "(qp02yc, 1, 01:00:00)   qp02yc    1  01:00:00     0.0     1  0.056065   \n",
       "\n",
       "                       meantime   meangeo  \n",
       "(qp02yc, 1, 00:00:00)  0.052137  0.002261  \n",
       "(qp02yc, 1, 00:15:00)  0.055022  0.002261  \n",
       "(qp02yc, 1, 00:30:00)  0.057736  0.002261  \n",
       "(qp02yc, 1, 00:45:00)  0.058483  0.002261  \n",
       "(qp02yc, 1, 01:00:00)  0.061226  0.002261  "
      ]
     },
     "execution_count": 12,
     "metadata": {},
     "output_type": "execute_result"
    }
   ],
   "source": [
    "df.head()"
   ]
  },
  {
   "cell_type": "markdown",
   "metadata": {},
   "source": [
    "# Feature 2: Geocorrelation (neighbordemand)\n",
    "\n",
    "I hypothesize that demands among areas that are close/clustered to each other are correlated. In other words, demand in an area is correlated to demands in their close neighbors. So let's apply inverse distance weighting function (IDW), which is a weighted average based on the inverse distance value on the demand. I call this feature \"neighbordemand\"."
   ]
  },
  {
   "cell_type": "code",
   "execution_count": 13,
   "metadata": {},
   "outputs": [
    {
     "name": "stderr",
     "output_type": "stream",
     "text": [
      "C:\\Users\\Andy\\Anaconda3\\envs\\py3\\lib\\site-packages\\pandas\\core\\frame.py:6551: RuntimeWarning: divide by zero encountered in reciprocal\n",
      "  return lib.map_infer(x.astype(object).values, func)\n"
     ]
    }
   ],
   "source": [
    "#neighbor demand\n",
    "\n",
    "def distance(originlats, originlons, destlats, destlons):\n",
    "    \n",
    "    radius = 6371 # km\n",
    "    \n",
    "    dlat = (destlats - originlats).map(math.radians)\n",
    "    dlon = (destlons - originlons).map(math.radians)\n",
    "    \n",
    "    a = (dlat/2).map(math.sin) * (dlat/2).map(math.sin) + originlats.map(math.radians).map(math.cos) * destlats.map(math.radians).map(math.cos) * (dlon/2).map(math.sin) * (dlon/2).map(math.sin)\n",
    "    c = pd.Series(2 * np.vectorize(math.atan2)(a.map(math.sqrt), (1-a).map(math.sqrt)))\n",
    "    d = radius * c\n",
    "\n",
    "    return d\n",
    "\n",
    "geokeys = np.sort(df.geohash6.unique())\n",
    "decoder = lambda x: decode(x)\n",
    "geovalues = list(map(decoder,geokeys))\n",
    "\n",
    "geo_ = pd.DataFrame(list(product(geovalues,geovalues)),columns=['origin','destination'])\n",
    "temp = pd.DataFrame(geo_.origin.tolist(), columns=['originlats','originlons'], index=geo_.index, dtype=float)\n",
    "geo_ = geo_.merge(temp,left_index=True,right_index=True)\n",
    "temp = pd.DataFrame(geo_.destination.tolist(), columns=['destlats','destlons'], index=geo_.index, dtype=float)\n",
    "geo_ = geo_.merge(temp,left_index=True,right_index=True)\n",
    "geo_ = geo_.drop(columns=['origin','destination'])\n",
    "\n",
    "geo_['distance'] = distance(geo_.originlats,geo_.originlons,geo_.destlats,geo_.destlons)\n",
    "geomatrix = pd.DataFrame(geo_['distance'].values.reshape(len(geovalues),len(geovalues)), index=geokeys, columns=geokeys)\n",
    "geomatrix = geomatrix.applymap(lambda x: x**np.pi) # one of hyperparameters that can be tuned\n",
    "geomatrix = geomatrix.applymap(np.reciprocal)\n",
    "geomatrix = geomatrix.replace(np.inf,1)\n",
    "np.fill_diagonal(geomatrix.values, 0)\n",
    "geomatrix_ = geomatrix.values\n",
    "\n",
    "days = np.sort(df.day.unique())\n",
    "times = np.sort(df.timestamp.unique())\n",
    "\n",
    "demandmatrix = df.demand.values.reshape(len(geokeys),len(days)*len(times)).T\n",
    "demandmatrix_ = demandmatrix @ geomatrix_\n",
    "df['neighbordemand'] = demandmatrix_.T.flatten().astype(np.float32)\n",
    "\n",
    "neighborscaler = MinMaxScaler()\n",
    "neighborscaler = neighborscaler.fit(df['neighbordemand'].values.reshape(-1, 1))\n",
    "df['neighbordemand'] = neighborscaler.transform(df['neighbordemand'].values.reshape(-1, 1))"
   ]
  },
  {
   "cell_type": "code",
   "execution_count": 14,
   "metadata": {},
   "outputs": [
    {
     "data": {
      "text/html": [
       "<div>\n",
       "<style scoped>\n",
       "    .dataframe tbody tr th:only-of-type {\n",
       "        vertical-align: middle;\n",
       "    }\n",
       "\n",
       "    .dataframe tbody tr th {\n",
       "        vertical-align: top;\n",
       "    }\n",
       "\n",
       "    .dataframe thead th {\n",
       "        text-align: right;\n",
       "    }\n",
       "</style>\n",
       "<table border=\"1\" class=\"dataframe\">\n",
       "  <thead>\n",
       "    <tr style=\"text-align: right;\">\n",
       "      <th></th>\n",
       "      <th>geohash6</th>\n",
       "      <th>day</th>\n",
       "      <th>timestamp</th>\n",
       "      <th>demand</th>\n",
       "      <th>day_</th>\n",
       "      <th>meanday</th>\n",
       "      <th>meantime</th>\n",
       "      <th>meangeo</th>\n",
       "      <th>neighbordemand</th>\n",
       "    </tr>\n",
       "  </thead>\n",
       "  <tbody>\n",
       "    <tr>\n",
       "      <th>(qp02yc, 1, 00:00:00)</th>\n",
       "      <td>qp02yc</td>\n",
       "      <td>1</td>\n",
       "      <td>00:00:00</td>\n",
       "      <td>0.0</td>\n",
       "      <td>1</td>\n",
       "      <td>0.056065</td>\n",
       "      <td>0.052137</td>\n",
       "      <td>0.002261</td>\n",
       "      <td>0.001854</td>\n",
       "    </tr>\n",
       "    <tr>\n",
       "      <th>(qp02yc, 1, 00:15:00)</th>\n",
       "      <td>qp02yc</td>\n",
       "      <td>1</td>\n",
       "      <td>00:15:00</td>\n",
       "      <td>0.0</td>\n",
       "      <td>1</td>\n",
       "      <td>0.056065</td>\n",
       "      <td>0.055022</td>\n",
       "      <td>0.002261</td>\n",
       "      <td>0.003198</td>\n",
       "    </tr>\n",
       "    <tr>\n",
       "      <th>(qp02yc, 1, 00:30:00)</th>\n",
       "      <td>qp02yc</td>\n",
       "      <td>1</td>\n",
       "      <td>00:30:00</td>\n",
       "      <td>0.0</td>\n",
       "      <td>1</td>\n",
       "      <td>0.056065</td>\n",
       "      <td>0.057736</td>\n",
       "      <td>0.002261</td>\n",
       "      <td>0.004232</td>\n",
       "    </tr>\n",
       "    <tr>\n",
       "      <th>(qp02yc, 1, 00:45:00)</th>\n",
       "      <td>qp02yc</td>\n",
       "      <td>1</td>\n",
       "      <td>00:45:00</td>\n",
       "      <td>0.0</td>\n",
       "      <td>1</td>\n",
       "      <td>0.056065</td>\n",
       "      <td>0.058483</td>\n",
       "      <td>0.002261</td>\n",
       "      <td>0.005933</td>\n",
       "    </tr>\n",
       "    <tr>\n",
       "      <th>(qp02yc, 1, 01:00:00)</th>\n",
       "      <td>qp02yc</td>\n",
       "      <td>1</td>\n",
       "      <td>01:00:00</td>\n",
       "      <td>0.0</td>\n",
       "      <td>1</td>\n",
       "      <td>0.056065</td>\n",
       "      <td>0.061226</td>\n",
       "      <td>0.002261</td>\n",
       "      <td>0.012483</td>\n",
       "    </tr>\n",
       "  </tbody>\n",
       "</table>\n",
       "</div>"
      ],
      "text/plain": [
       "                      geohash6  day timestamp  demand  day_   meanday  \\\n",
       "(qp02yc, 1, 00:00:00)   qp02yc    1  00:00:00     0.0     1  0.056065   \n",
       "(qp02yc, 1, 00:15:00)   qp02yc    1  00:15:00     0.0     1  0.056065   \n",
       "(qp02yc, 1, 00:30:00)   qp02yc    1  00:30:00     0.0     1  0.056065   \n",
       "(qp02yc, 1, 00:45:00)   qp02yc    1  00:45:00     0.0     1  0.056065   \n",
       "(qp02yc, 1, 01:00:00)   qp02yc    1  01:00:00     0.0     1  0.056065   \n",
       "\n",
       "                       meantime   meangeo  neighbordemand  \n",
       "(qp02yc, 1, 00:00:00)  0.052137  0.002261        0.001854  \n",
       "(qp02yc, 1, 00:15:00)  0.055022  0.002261        0.003198  \n",
       "(qp02yc, 1, 00:30:00)  0.057736  0.002261        0.004232  \n",
       "(qp02yc, 1, 00:45:00)  0.058483  0.002261        0.005933  \n",
       "(qp02yc, 1, 01:00:00)  0.061226  0.002261        0.012483  "
      ]
     },
     "execution_count": 14,
     "metadata": {},
     "output_type": "execute_result"
    }
   ],
   "source": [
    "df.head()"
   ]
  },
  {
   "cell_type": "markdown",
   "metadata": {},
   "source": [
    "# Feature 3: Sampling historical data\n",
    "\n",
    "At this point, I am tempted to model using sequence-to-sequence LSTM, but I feel like sampling at relevant time points would yield better prediction compared to feeding raw sequences into the LSTM model. For my model, I will sample at these time points:\n",
    "1. D-0 (today): T-5 to T-0 (now)\n",
    "2. D-1 (yesterday): T-5 to T-0 (exactly the same time yesterday) to T+5\n",
    "3. D-7 (last week): T-5 to T-0 (exactly the same time last week) to T+5\n",
    "\n",
    "We want to predict D-0 at time points T-1 to T-5 as specified in the problem statement.\n",
    "\n",
    "To avoid confusion, I will rename the column names as follows:\n",
    "1. demand: d_d-0_t-0\n",
    "2. neighbordemand: nd_d-0_t-0\n",
    "\n",
    "Other variables will follow the above naming conventions. For example neighbor demand last week at T+3 will have the variable 'nd_d-7_t+3'"
   ]
  },
  {
   "cell_type": "code",
   "execution_count": 15,
   "metadata": {},
   "outputs": [],
   "source": [
    "df.rename(columns={'demand':'d_d-0_t-0','neighbordemand':'nd_d-0_t-0'},inplace=True)\n",
    "\n",
    "for i in ['d','nd']:\n",
    "    for j in list(range(1,6)):\n",
    "        columnname = i + '_d-0_t' + str(-j)\n",
    "        df[columnname] = np.where(df.geohash6==df.geohash6.shift(j),df[i + '_d-0_t-0'].shift(j),np.nan)\n",
    "    for j in list(range(-5,6)):\n",
    "        columnname = i + '_d-1_t' + str(-j)\n",
    "        df[columnname] = np.where(df.geohash6==df.geohash6.shift(j+96),df[i + '_d-0_t-0'].shift(j+96),np.nan)\n",
    "    for j in list(range(-5,6)):\n",
    "        columnname = i + '_d-7_t' + str(-j)\n",
    "        df[columnname] = np.where(df.geohash6==df.geohash6.shift(j+(96*7)),df[i + '_d-0_t-0'].shift(j+(96*7)),np.nan)\n",
    "\n",
    "for j in list(range(-5,0)):\n",
    "    columnname = 'T' + str(-j)\n",
    "    df[columnname] = np.where(df.geohash6==df.geohash6.shift(j),df['d_d-0_t-0'].shift(j),np.nan)"
   ]
  },
  {
   "cell_type": "code",
   "execution_count": 16,
   "metadata": {},
   "outputs": [
    {
     "data": {
      "text/html": [
       "<div>\n",
       "<style scoped>\n",
       "    .dataframe tbody tr th:only-of-type {\n",
       "        vertical-align: middle;\n",
       "    }\n",
       "\n",
       "    .dataframe tbody tr th {\n",
       "        vertical-align: top;\n",
       "    }\n",
       "\n",
       "    .dataframe thead th {\n",
       "        text-align: right;\n",
       "    }\n",
       "</style>\n",
       "<table border=\"1\" class=\"dataframe\">\n",
       "  <thead>\n",
       "    <tr style=\"text-align: right;\">\n",
       "      <th></th>\n",
       "      <th>geohash6</th>\n",
       "      <th>day</th>\n",
       "      <th>timestamp</th>\n",
       "      <th>d_d-0_t-0</th>\n",
       "      <th>day_</th>\n",
       "      <th>meanday</th>\n",
       "      <th>meantime</th>\n",
       "      <th>meangeo</th>\n",
       "      <th>nd_d-0_t-0</th>\n",
       "      <th>d_d-0_t-1</th>\n",
       "      <th>...</th>\n",
       "      <th>nd_d-7_t-1</th>\n",
       "      <th>nd_d-7_t-2</th>\n",
       "      <th>nd_d-7_t-3</th>\n",
       "      <th>nd_d-7_t-4</th>\n",
       "      <th>nd_d-7_t-5</th>\n",
       "      <th>T5</th>\n",
       "      <th>T4</th>\n",
       "      <th>T3</th>\n",
       "      <th>T2</th>\n",
       "      <th>T1</th>\n",
       "    </tr>\n",
       "  </thead>\n",
       "  <tbody>\n",
       "    <tr>\n",
       "      <th>(qp02yc, 1, 00:00:00)</th>\n",
       "      <td>qp02yc</td>\n",
       "      <td>1</td>\n",
       "      <td>00:00:00</td>\n",
       "      <td>0.0</td>\n",
       "      <td>1</td>\n",
       "      <td>0.056065</td>\n",
       "      <td>0.052137</td>\n",
       "      <td>0.002261</td>\n",
       "      <td>0.001854</td>\n",
       "      <td>NaN</td>\n",
       "      <td>...</td>\n",
       "      <td>NaN</td>\n",
       "      <td>NaN</td>\n",
       "      <td>NaN</td>\n",
       "      <td>NaN</td>\n",
       "      <td>NaN</td>\n",
       "      <td>0.0</td>\n",
       "      <td>0.0</td>\n",
       "      <td>0.0</td>\n",
       "      <td>0.0</td>\n",
       "      <td>0.0</td>\n",
       "    </tr>\n",
       "    <tr>\n",
       "      <th>(qp02yc, 1, 00:15:00)</th>\n",
       "      <td>qp02yc</td>\n",
       "      <td>1</td>\n",
       "      <td>00:15:00</td>\n",
       "      <td>0.0</td>\n",
       "      <td>1</td>\n",
       "      <td>0.056065</td>\n",
       "      <td>0.055022</td>\n",
       "      <td>0.002261</td>\n",
       "      <td>0.003198</td>\n",
       "      <td>0.0</td>\n",
       "      <td>...</td>\n",
       "      <td>NaN</td>\n",
       "      <td>NaN</td>\n",
       "      <td>NaN</td>\n",
       "      <td>NaN</td>\n",
       "      <td>NaN</td>\n",
       "      <td>0.0</td>\n",
       "      <td>0.0</td>\n",
       "      <td>0.0</td>\n",
       "      <td>0.0</td>\n",
       "      <td>0.0</td>\n",
       "    </tr>\n",
       "    <tr>\n",
       "      <th>(qp02yc, 1, 00:30:00)</th>\n",
       "      <td>qp02yc</td>\n",
       "      <td>1</td>\n",
       "      <td>00:30:00</td>\n",
       "      <td>0.0</td>\n",
       "      <td>1</td>\n",
       "      <td>0.056065</td>\n",
       "      <td>0.057736</td>\n",
       "      <td>0.002261</td>\n",
       "      <td>0.004232</td>\n",
       "      <td>0.0</td>\n",
       "      <td>...</td>\n",
       "      <td>NaN</td>\n",
       "      <td>NaN</td>\n",
       "      <td>NaN</td>\n",
       "      <td>NaN</td>\n",
       "      <td>NaN</td>\n",
       "      <td>0.0</td>\n",
       "      <td>0.0</td>\n",
       "      <td>0.0</td>\n",
       "      <td>0.0</td>\n",
       "      <td>0.0</td>\n",
       "    </tr>\n",
       "    <tr>\n",
       "      <th>(qp02yc, 1, 00:45:00)</th>\n",
       "      <td>qp02yc</td>\n",
       "      <td>1</td>\n",
       "      <td>00:45:00</td>\n",
       "      <td>0.0</td>\n",
       "      <td>1</td>\n",
       "      <td>0.056065</td>\n",
       "      <td>0.058483</td>\n",
       "      <td>0.002261</td>\n",
       "      <td>0.005933</td>\n",
       "      <td>0.0</td>\n",
       "      <td>...</td>\n",
       "      <td>NaN</td>\n",
       "      <td>NaN</td>\n",
       "      <td>NaN</td>\n",
       "      <td>NaN</td>\n",
       "      <td>NaN</td>\n",
       "      <td>0.0</td>\n",
       "      <td>0.0</td>\n",
       "      <td>0.0</td>\n",
       "      <td>0.0</td>\n",
       "      <td>0.0</td>\n",
       "    </tr>\n",
       "    <tr>\n",
       "      <th>(qp02yc, 1, 01:00:00)</th>\n",
       "      <td>qp02yc</td>\n",
       "      <td>1</td>\n",
       "      <td>01:00:00</td>\n",
       "      <td>0.0</td>\n",
       "      <td>1</td>\n",
       "      <td>0.056065</td>\n",
       "      <td>0.061226</td>\n",
       "      <td>0.002261</td>\n",
       "      <td>0.012483</td>\n",
       "      <td>0.0</td>\n",
       "      <td>...</td>\n",
       "      <td>NaN</td>\n",
       "      <td>NaN</td>\n",
       "      <td>NaN</td>\n",
       "      <td>NaN</td>\n",
       "      <td>NaN</td>\n",
       "      <td>0.0</td>\n",
       "      <td>0.0</td>\n",
       "      <td>0.0</td>\n",
       "      <td>0.0</td>\n",
       "      <td>0.0</td>\n",
       "    </tr>\n",
       "  </tbody>\n",
       "</table>\n",
       "<p>5 rows × 68 columns</p>\n",
       "</div>"
      ],
      "text/plain": [
       "                      geohash6  day timestamp  d_d-0_t-0  day_   meanday  \\\n",
       "(qp02yc, 1, 00:00:00)   qp02yc    1  00:00:00        0.0     1  0.056065   \n",
       "(qp02yc, 1, 00:15:00)   qp02yc    1  00:15:00        0.0     1  0.056065   \n",
       "(qp02yc, 1, 00:30:00)   qp02yc    1  00:30:00        0.0     1  0.056065   \n",
       "(qp02yc, 1, 00:45:00)   qp02yc    1  00:45:00        0.0     1  0.056065   \n",
       "(qp02yc, 1, 01:00:00)   qp02yc    1  01:00:00        0.0     1  0.056065   \n",
       "\n",
       "                       meantime   meangeo  nd_d-0_t-0  d_d-0_t-1  ...  \\\n",
       "(qp02yc, 1, 00:00:00)  0.052137  0.002261    0.001854        NaN  ...   \n",
       "(qp02yc, 1, 00:15:00)  0.055022  0.002261    0.003198        0.0  ...   \n",
       "(qp02yc, 1, 00:30:00)  0.057736  0.002261    0.004232        0.0  ...   \n",
       "(qp02yc, 1, 00:45:00)  0.058483  0.002261    0.005933        0.0  ...   \n",
       "(qp02yc, 1, 01:00:00)  0.061226  0.002261    0.012483        0.0  ...   \n",
       "\n",
       "                       nd_d-7_t-1  nd_d-7_t-2  nd_d-7_t-3  nd_d-7_t-4  \\\n",
       "(qp02yc, 1, 00:00:00)         NaN         NaN         NaN         NaN   \n",
       "(qp02yc, 1, 00:15:00)         NaN         NaN         NaN         NaN   \n",
       "(qp02yc, 1, 00:30:00)         NaN         NaN         NaN         NaN   \n",
       "(qp02yc, 1, 00:45:00)         NaN         NaN         NaN         NaN   \n",
       "(qp02yc, 1, 01:00:00)         NaN         NaN         NaN         NaN   \n",
       "\n",
       "                       nd_d-7_t-5   T5   T4   T3   T2   T1  \n",
       "(qp02yc, 1, 00:00:00)         NaN  0.0  0.0  0.0  0.0  0.0  \n",
       "(qp02yc, 1, 00:15:00)         NaN  0.0  0.0  0.0  0.0  0.0  \n",
       "(qp02yc, 1, 00:30:00)         NaN  0.0  0.0  0.0  0.0  0.0  \n",
       "(qp02yc, 1, 00:45:00)         NaN  0.0  0.0  0.0  0.0  0.0  \n",
       "(qp02yc, 1, 01:00:00)         NaN  0.0  0.0  0.0  0.0  0.0  \n",
       "\n",
       "[5 rows x 68 columns]"
      ]
     },
     "execution_count": 16,
     "metadata": {},
     "output_type": "execute_result"
    }
   ],
   "source": [
    "df.head()"
   ]
  },
  {
   "cell_type": "markdown",
   "metadata": {},
   "source": [
    "Now we can drop the NaN values and drop the unused columns. We split the dataframe into X (features) and y (labels). Finally, we split the data into train and test datasets."
   ]
  },
  {
   "cell_type": "code",
   "execution_count": 17,
   "metadata": {},
   "outputs": [],
   "source": [
    "df = df.dropna()\n",
    "df = df.drop(columns=['geohash6','day','timestamp','day_'])\n",
    "\n",
    "\n",
    "y = pd.DataFrame()\n",
    "y['T1'],y['T2'],y['T3'],y['T4'],y['T5'] = df['T1'],df['T2'],df['T3'],df['T4'],df['T5']\n",
    "X = df.drop(columns=['T1','T2','T3','T4','T5'])\n",
    "del df\n",
    "\n",
    "X_train, X_test, y_train, y_test = train_test_split(X, y, test_size=0.2, random_state=777)"
   ]
  },
  {
   "cell_type": "markdown",
   "metadata": {},
   "source": [
    "# Modelling\n",
    "\n",
    "For the modelling, we will use a simple 2-layer neural network so that it will run at a reasonable speed. I assume that if we scale this to larger datasets, speed is at utmost importance as we are streaming data at real time during deployment phase. First, we will set the parameters and the functions used in the modelling."
   ]
  },
  {
   "cell_type": "code",
   "execution_count": 18,
   "metadata": {},
   "outputs": [],
   "source": [
    "parameters = {\n",
    "        'dropout' : 0.5,\n",
    "        'epoch' : 10,\n",
    "        'batch_size' : 512}\n",
    "\n",
    "def dense(X_train, X_test, y_train, y_test, parameters):\n",
    "    main_input = keras.Input(shape=(X_train.shape[1],), name='main_input')\n",
    "    \n",
    "    normx1 = keras.layers.normalization.BatchNormalization() (main_input)\n",
    "    encoder1 = keras.layers.Dense(64,kernel_initializer='glorot_normal', activation='selu')(normx1)\n",
    "    dropencoder1 = keras.layers.core.Dropout(rate = parameters['dropout'])(encoder1)\n",
    "    encoder2 = keras.layers.Dense(64,kernel_initializer='glorot_normal', activation='selu')(dropencoder1)\n",
    "    dropencoder2 = keras.layers.core.Dropout(rate = parameters['dropout'])(encoder2)\n",
    "    normdecoder = keras.layers.normalization.BatchNormalization() (dropencoder2)\n",
    "    \n",
    "    main_output = keras.layers.Dense(5, activation='linear', name='main_output')(normdecoder)\n",
    "    \n",
    "    model = keras.models.Model(inputs=main_input, outputs=main_output)\n",
    "    \n",
    "    return model\n",
    "\n",
    "def fulltraining(model, X_train, X_test, y_train, y_test, parameters):\n",
    "    \n",
    "    reduce_lr = keras.callbacks.ReduceLROnPlateau(monitor='val_loss', factor=0.2, patience=5, min_lr=0.000001, verbose=1)\n",
    "    \n",
    "    model.compile(optimizer='nadam',\n",
    "                  loss='mean_squared_error',\n",
    "                  metrics=['mae'])\n",
    "    \n",
    "    # fit network\n",
    "    history = model.fit({'main_input': X_train}, y_train, epochs=parameters['epoch'], batch_size=parameters['batch_size'], validation_data=({'main_input': X_test}, y_test), verbose=1, callbacks=[reduce_lr], shuffle=False)\n",
    "    # plot history\n",
    "    #plt.plot(history.history['loss'], label='train')\n",
    "    plt.plot(history.history['val_loss'], label='test')\n",
    "    plt.legend()\n",
    "    plt.show()\n",
    "    \n",
    "    return model\n",
    "\n",
    "def save_model(model):\n",
    "    model.save_weights('grab.h5')\n",
    "\n",
    "def load_model(model):\n",
    "    model.load_weights('grab.h5')"
   ]
  },
  {
   "cell_type": "code",
   "execution_count": 19,
   "metadata": {
    "scrolled": true
   },
   "outputs": [
    {
     "name": "stdout",
     "output_type": "stream",
     "text": [
      "WARNING:tensorflow:From C:\\Users\\Andy\\Anaconda3\\envs\\py3\\lib\\site-packages\\tensorflow\\python\\framework\\op_def_library.py:263: colocate_with (from tensorflow.python.framework.ops) is deprecated and will be removed in a future version.\n",
      "Instructions for updating:\n",
      "Colocations handled automatically by placer.\n",
      "WARNING:tensorflow:From C:\\Users\\Andy\\Anaconda3\\envs\\py3\\lib\\site-packages\\keras\\backend\\tensorflow_backend.py:3445: calling dropout (from tensorflow.python.ops.nn_ops) with keep_prob is deprecated and will be removed in a future version.\n",
      "Instructions for updating:\n",
      "Please use `rate` instead of `keep_prob`. Rate should be set to `rate = 1 - keep_prob`.\n"
     ]
    }
   ],
   "source": [
    "model = dense(X_train, X_test, y_train, y_test, parameters)\n",
    "#model = fulltraining(model, X_train, X_test, y_train, y_test, parameters)\n",
    "model.load_weights('grab.h5')"
   ]
  },
  {
   "cell_type": "markdown",
   "metadata": {},
   "source": [
    "Finally, let's predict using our model."
   ]
  },
  {
   "cell_type": "code",
   "execution_count": 20,
   "metadata": {},
   "outputs": [],
   "source": [
    "def predict(model):\n",
    "    # make a prediction\n",
    "    \n",
    "    predraw = model.predict({'main_input': X_test})\n",
    "    pred = pd.DataFrame(predraw, columns=['T1','T2','T3','T4','T5'])\n",
    "    return pred"
   ]
  },
  {
   "cell_type": "code",
   "execution_count": 21,
   "metadata": {},
   "outputs": [],
   "source": [
    "pred = predict(model)\n",
    "pred.index = y_test.index"
   ]
  },
  {
   "cell_type": "code",
   "execution_count": 22,
   "metadata": {},
   "outputs": [],
   "source": [
    "y_test = y_test.sort_index()\n",
    "pred = pred.sort_index()\n",
    "y_test['geohash6'],y_test['day'],y_test['timestamp'] = zip(*y_test.index)\n",
    "pred['geohash6'],pred['day'],pred['timestamp'] = zip(*pred.index)"
   ]
  },
  {
   "cell_type": "markdown",
   "metadata": {},
   "source": [
    "Let's us check the RMSE of the predictions"
   ]
  },
  {
   "cell_type": "code",
   "execution_count": 23,
   "metadata": {},
   "outputs": [],
   "source": [
    "def rmse(predictions, targets):\n",
    "    return np.sqrt(((predictions - targets) ** 2).mean())"
   ]
  },
  {
   "cell_type": "code",
   "execution_count": 24,
   "metadata": {},
   "outputs": [],
   "source": [
    "rmset1 = rmse(pred['T1'],y_test['T1'])\n",
    "rmset2 = rmse(pred['T2'],y_test['T2'])\n",
    "rmset3 = rmse(pred['T3'],y_test['T3'])\n",
    "rmset4 = rmse(pred['T4'],y_test['T4'])\n",
    "rmset5 = rmse(pred['T5'],y_test['T5'])\n",
    "predall = pd.Series()\n",
    "predall = predall.append([pred['T1'],pred['T2'],pred['T3'],pred['T4'],pred['T5']])\n",
    "y_testall = pd.Series()\n",
    "y_testall = y_testall.append([y_test['T1'],y_test['T2'],y_test['T3'],y_test['T4'],y_test['T5']])\n",
    "rmsetall = rmse(predall,y_testall)"
   ]
  },
  {
   "cell_type": "code",
   "execution_count": 25,
   "metadata": {},
   "outputs": [
    {
     "name": "stdout",
     "output_type": "stream",
     "text": [
      "RMSE at T1:  0.02368799227648709\n",
      "RMSE at T2:  0.026668600694302345\n",
      "RMSE at T3:  0.028684248732614017\n",
      "RMSE at T4:  0.030547229666919286\n",
      "RMSE at T5:  0.032673359303460436\n",
      "RMSE at T1 to T5:  0.028509102689443358\n"
     ]
    }
   ],
   "source": [
    "print('RMSE at T1: ', rmset1)\n",
    "print('RMSE at T2: ', rmset2)\n",
    "print('RMSE at T3: ', rmset3)\n",
    "print('RMSE at T4: ', rmset4)\n",
    "print('RMSE at T5: ', rmset5)\n",
    "print('RMSE at T1 to T5: ', rmsetall)"
   ]
  },
  {
   "cell_type": "markdown",
   "metadata": {},
   "source": [
    "So on average RMSE is around 0.02 to 0.03 and we're done with model."
   ]
  }
 ],
 "metadata": {
  "kernelspec": {
   "display_name": "Python 3",
   "language": "python",
   "name": "python3"
  },
  "language_info": {
   "codemirror_mode": {
    "name": "ipython",
    "version": 3
   },
   "file_extension": ".py",
   "mimetype": "text/x-python",
   "name": "python",
   "nbconvert_exporter": "python",
   "pygments_lexer": "ipython3",
   "version": "3.6.8"
  }
 },
 "nbformat": 4,
 "nbformat_minor": 2
}
